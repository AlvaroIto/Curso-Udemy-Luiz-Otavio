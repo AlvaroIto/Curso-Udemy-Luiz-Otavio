{
 "cells": [
  {
   "cell_type": "markdown",
   "id": "5e8cd35d-8522-4a8d-bdd3-a99bc877d497",
   "metadata": {},
   "source": [
    "# Esse é o meu título\n",
    "Essa linha cria uma variável 'a'."
   ]
  },
  {
   "cell_type": "code",
   "execution_count": 8,
   "id": "3e452986-3a1f-4b57-98be-82bfa0446017",
   "metadata": {},
   "outputs": [
    {
     "data": {
      "text/plain": [
       "2"
      ]
     },
     "execution_count": 8,
     "metadata": {},
     "output_type": "execute_result"
    }
   ],
   "source": [
    "a = 2\n",
    "a"
   ]
  },
  {
   "cell_type": "markdown",
   "id": "c7170874-aa58-443f-b93a-ca72790feada",
   "metadata": {},
   "source": [
    "Essa linha tem o valor da variável 'a' em dobro"
   ]
  },
  {
   "cell_type": "code",
   "execution_count": 7,
   "id": "c7fd92cd-1c11-466d-8651-eea567e3b54f",
   "metadata": {},
   "outputs": [
    {
     "data": {
      "text/plain": [
       "4"
      ]
     },
     "execution_count": 7,
     "metadata": {},
     "output_type": "execute_result"
    }
   ],
   "source": [
    "b = a * 2\n",
    "b"
   ]
  },
  {
   "cell_type": "markdown",
   "id": "19766ae0-4996-4654-be35-8b896c733b23",
   "metadata": {},
   "source": [
    "Essa linha mostra o valor de 'a' + 'b'"
   ]
  },
  {
   "cell_type": "code",
   "execution_count": 9,
   "id": "69da7142-6b7a-47e7-a3a0-ba6640f47c7c",
   "metadata": {},
   "outputs": [
    {
     "data": {
      "text/plain": [
       "6"
      ]
     },
     "execution_count": 9,
     "metadata": {},
     "output_type": "execute_result"
    }
   ],
   "source": [
    "a + b"
   ]
  },
  {
   "cell_type": "code",
   "execution_count": null,
   "id": "31e7e182-5843-4447-a55c-2aa69d956c2f",
   "metadata": {},
   "outputs": [],
   "source": []
  }
 ],
 "metadata": {
  "kernelspec": {
   "display_name": "Python 3 (ipykernel)",
   "language": "python",
   "name": "python3"
  },
  "language_info": {
   "codemirror_mode": {
    "name": "ipython",
    "version": 3
   },
   "file_extension": ".py",
   "mimetype": "text/x-python",
   "name": "python",
   "nbconvert_exporter": "python",
   "pygments_lexer": "ipython3",
   "version": "3.11.9"
  }
 },
 "nbformat": 4,
 "nbformat_minor": 5
}
